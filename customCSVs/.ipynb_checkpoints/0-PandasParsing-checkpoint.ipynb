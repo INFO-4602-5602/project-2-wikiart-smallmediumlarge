{
 "cells": [
  {
   "cell_type": "code",
   "execution_count": 1,
   "metadata": {},
   "outputs": [],
   "source": [
    "import pandas as pd\n",
    "import csv"
   ]
  },
  {
   "cell_type": "code",
   "execution_count": 2,
   "metadata": {},
   "outputs": [],
   "source": [
    "# Reading original .csv\n",
    "df = pd.read_csv('../WikiArtClean.csv')\n",
    "df = df.drop(columns=['Image URL', 'Painting Info URL', 'Artist Info URL'])\n",
    "# List of all columns\n",
    "columns = list(df.columns)\n",
    "# List of mood attributes\n",
    "moods = columns[8:]"
   ]
  },
  {
   "cell_type": "code",
   "execution_count": 3,
   "metadata": {},
   "outputs": [],
   "source": [
    "# Getting all different styles\n",
    "styles = []\n",
    "\n",
    "for index, row in df.iterrows():\n",
    "    if row[0] not in styles:\n",
    "        styles.append(row[0])"
   ]
  },
  {
   "cell_type": "code",
   "execution_count": 4,
   "metadata": {},
   "outputs": [],
   "source": [
    "# Creating dataframes for each style\n",
    "\n",
    "styleFrames = [];\n",
    "\n",
    "for style in styles:\n",
    "    newDf = df.loc[df['Style'] == style]\n",
    "    styleFrames.append(newDf)"
   ]
  },
  {
   "cell_type": "code",
   "execution_count": 5,
   "metadata": {},
   "outputs": [],
   "source": [
    "# CSVs for average ratings of each Artist per style\n",
    "\n",
    "allAverages = []\n",
    "\n",
    "for i in range(len(styles)):\n",
    "    frame = styleFrames[i].groupby(['Artist']).mean()\n",
    "    frame = frame.drop(columns=['Year'])\n",
    "    fileName = styles[i] + '_ArtistAverages.csv'\n",
    "#     frame.to_csv(fileName)"
   ]
  },
  {
   "cell_type": "code",
   "execution_count": 6,
   "metadata": {},
   "outputs": [],
   "source": [
    "# CSV for average ratings for the style\n",
    "\n",
    "styleEmotions = df.groupby(['Style']).mean()\n",
    "# styleEmotions.to_csv('averageEmotionByStyle.csv')"
   ]
  },
  {
   "cell_type": "code",
   "execution_count": 39,
   "metadata": {},
   "outputs": [],
   "source": [
    "# CSVs split by just styles\n",
    "\n",
    "for i in range(len(styles)):\n",
    "    frame = styleFrames[i]\n",
    "    fileName = styles[i] + '.csv'\n",
    "#     frame.to_csv(fileName)"
   ]
  },
  {
   "cell_type": "code",
   "execution_count": 11,
   "metadata": {},
   "outputs": [
    {
     "data": {
      "text/html": [
       "<div>\n",
       "<style scoped>\n",
       "    .dataframe tbody tr th:only-of-type {\n",
       "        vertical-align: middle;\n",
       "    }\n",
       "\n",
       "    .dataframe tbody tr th {\n",
       "        vertical-align: top;\n",
       "    }\n",
       "\n",
       "    .dataframe thead th {\n",
       "        text-align: right;\n",
       "    }\n",
       "</style>\n",
       "<table border=\"1\" class=\"dataframe\">\n",
       "  <thead>\n",
       "    <tr style=\"text-align: right;\">\n",
       "      <th></th>\n",
       "      <th>Artist</th>\n",
       "      <th>Year</th>\n",
       "      <th>Title</th>\n",
       "      <th>Mean rating</th>\n",
       "    </tr>\n",
       "  </thead>\n",
       "  <tbody>\n",
       "    <tr>\n",
       "      <td>0</td>\n",
       "      <td>Robert Campin</td>\n",
       "      <td>1415</td>\n",
       "      <td>Triptych: The Two Thieves with the Empty Cross...</td>\n",
       "      <td>1.20</td>\n",
       "    </tr>\n",
       "    <tr>\n",
       "      <td>1</td>\n",
       "      <td>Masaccio</td>\n",
       "      <td>1422</td>\n",
       "      <td>St. Juvenal Triptych</td>\n",
       "      <td>1.06</td>\n",
       "    </tr>\n",
       "    <tr>\n",
       "      <td>2</td>\n",
       "      <td>Robert Campin</td>\n",
       "      <td>1424</td>\n",
       "      <td>Blessing Christ and Praying Virgin</td>\n",
       "      <td>1.60</td>\n",
       "    </tr>\n",
       "    <tr>\n",
       "      <td>3</td>\n",
       "      <td>Masaccio</td>\n",
       "      <td>1425</td>\n",
       "      <td>The Tribute Money</td>\n",
       "      <td>1.08</td>\n",
       "    </tr>\n",
       "    <tr>\n",
       "      <td>4</td>\n",
       "      <td>Masaccio</td>\n",
       "      <td>1426</td>\n",
       "      <td>St. Paul</td>\n",
       "      <td>1.45</td>\n",
       "    </tr>\n",
       "    <tr>\n",
       "      <td>...</td>\n",
       "      <td>...</td>\n",
       "      <td>...</td>\n",
       "      <td>...</td>\n",
       "      <td>...</td>\n",
       "    </tr>\n",
       "    <tr>\n",
       "      <td>304</td>\n",
       "      <td>Joachim Wtewael</td>\n",
       "      <td>1600</td>\n",
       "      <td>Martyrdom of St. Sebastian</td>\n",
       "      <td>1.70</td>\n",
       "    </tr>\n",
       "    <tr>\n",
       "      <td>312</td>\n",
       "      <td>Joachim Wtewael</td>\n",
       "      <td>1605</td>\n",
       "      <td>Kitchen Scene</td>\n",
       "      <td>0.80</td>\n",
       "    </tr>\n",
       "    <tr>\n",
       "      <td>315</td>\n",
       "      <td>Jan Provoost</td>\n",
       "      <td>1607</td>\n",
       "      <td>The Martyrdom of St. Catherine</td>\n",
       "      <td>1.60</td>\n",
       "    </tr>\n",
       "    <tr>\n",
       "      <td>322</td>\n",
       "      <td>Joachim Wtewael</td>\n",
       "      <td>1611</td>\n",
       "      <td>Perseus Rescuing Andromeda</td>\n",
       "      <td>1.83</td>\n",
       "    </tr>\n",
       "    <tr>\n",
       "      <td>355</td>\n",
       "      <td>Joachim Wtewael</td>\n",
       "      <td>1625</td>\n",
       "      <td>Adoration by the Shepherds</td>\n",
       "      <td>1.60</td>\n",
       "    </tr>\n",
       "  </tbody>\n",
       "</table>\n",
       "<p>287 rows × 4 columns</p>\n",
       "</div>"
      ],
      "text/plain": [
       "              Artist  Year                                              Title  \\\n",
       "0      Robert Campin  1415  Triptych: The Two Thieves with the Empty Cross...   \n",
       "1           Masaccio  1422                               St. Juvenal Triptych   \n",
       "2      Robert Campin  1424                 Blessing Christ and Praying Virgin   \n",
       "3           Masaccio  1425                                  The Tribute Money   \n",
       "4           Masaccio  1426                                           St. Paul   \n",
       "..               ...   ...                                                ...   \n",
       "304  Joachim Wtewael  1600                         Martyrdom of St. Sebastian   \n",
       "312  Joachim Wtewael  1605                                      Kitchen Scene   \n",
       "315     Jan Provoost  1607                     The Martyrdom of St. Catherine   \n",
       "322  Joachim Wtewael  1611                         Perseus Rescuing Andromeda   \n",
       "355  Joachim Wtewael  1625                         Adoration by the Shepherds   \n",
       "\n",
       "     Mean rating  \n",
       "0           1.20  \n",
       "1           1.06  \n",
       "2           1.60  \n",
       "3           1.08  \n",
       "4           1.45  \n",
       "..           ...  \n",
       "304         1.70  \n",
       "312         0.80  \n",
       "315         1.60  \n",
       "322         1.83  \n",
       "355         1.60  \n",
       "\n",
       "[287 rows x 4 columns]"
      ]
     },
     "execution_count": 11,
     "metadata": {},
     "output_type": "execute_result"
    }
   ],
   "source": [
    "# Testing by title keyword thing\n",
    "test = styleFrames[0]\n",
    "test = test[['Artist', 'Year', 'Title', 'Mean rating']]\n",
    "test"
   ]
  },
  {
   "cell_type": "code",
   "execution_count": 35,
   "metadata": {},
   "outputs": [
    {
     "name": "stderr",
     "output_type": "stream",
     "text": [
      "C:\\Users\\lykas\\Anaconda3\\lib\\site-packages\\ipykernel_launcher.py:7: SettingWithCopyWarning: \n",
      "A value is trying to be set on a copy of a slice from a DataFrame.\n",
      "Try using .loc[row_indexer,col_indexer] = value instead\n",
      "\n",
      "See the caveats in the documentation: http://pandas.pydata.org/pandas-docs/stable/user_guide/indexing.html#returning-a-view-versus-a-copy\n",
      "  import sys\n"
     ]
    }
   ],
   "source": [
    "keywords = pd.read_csv('../ChristianityKeyWords.csv')\n",
    "keywords = list(keywords['Keywords'])\n",
    "# Making all keywords lowercase\n",
    "keywords = [key.lower() for key in keywords]\n"
   ]
  },
  {
   "cell_type": "code",
   "execution_count": 38,
   "metadata": {},
   "outputs": [],
   "source": [
    "def withChrist(c):\n",
    "    if any(key in c['Title'] for key in keywords):\n",
    "        return 'yes'\n",
    "    else:\n",
    "        return 'no'"
   ]
  },
  {
   "cell_type": "code",
   "execution_count": 40,
   "metadata": {},
   "outputs": [
    {
     "name": "stderr",
     "output_type": "stream",
     "text": [
      "C:\\Users\\lykas\\Anaconda3\\lib\\site-packages\\ipykernel_launcher.py:6: SettingWithCopyWarning: \n",
      "A value is trying to be set on a copy of a slice from a DataFrame.\n",
      "Try using .loc[row_indexer,col_indexer] = value instead\n",
      "\n",
      "See the caveats in the documentation: http://pandas.pydata.org/pandas-docs/stable/user_guide/indexing.html#returning-a-view-versus-a-copy\n",
      "  \n",
      "C:\\Users\\lykas\\Anaconda3\\lib\\site-packages\\ipykernel_launcher.py:7: SettingWithCopyWarning: \n",
      "A value is trying to be set on a copy of a slice from a DataFrame.\n",
      "Try using .loc[row_indexer,col_indexer] = value instead\n",
      "\n",
      "See the caveats in the documentation: http://pandas.pydata.org/pandas-docs/stable/user_guide/indexing.html#returning-a-view-versus-a-copy\n",
      "  import sys\n"
     ]
    }
   ],
   "source": [
    "# Creating new column for all the styles\n",
    "\n",
    "for i in range(len(styles)):\n",
    "    frame = styleFrames[i]\n",
    "    # Making all titles lowercase\n",
    "    frame['Title'] = [title.lower() for title in frame['Title']]\n",
    "    frame['withChrist'] = frame.apply(withChrist, axis=1)\n",
    "    fileName = styles[i] + '.csv'\n",
    "#     frame.to_csv(fileName)"
   ]
  },
  {
   "cell_type": "code",
   "execution_count": null,
   "metadata": {},
   "outputs": [],
   "source": []
  }
 ],
 "metadata": {
  "kernelspec": {
   "display_name": "Python 3",
   "language": "python",
   "name": "python3"
  },
  "language_info": {
   "codemirror_mode": {
    "name": "ipython",
    "version": 3
   },
   "file_extension": ".py",
   "mimetype": "text/x-python",
   "name": "python",
   "nbconvert_exporter": "python",
   "pygments_lexer": "ipython3",
   "version": "3.7.4"
  }
 },
 "nbformat": 4,
 "nbformat_minor": 2
}
