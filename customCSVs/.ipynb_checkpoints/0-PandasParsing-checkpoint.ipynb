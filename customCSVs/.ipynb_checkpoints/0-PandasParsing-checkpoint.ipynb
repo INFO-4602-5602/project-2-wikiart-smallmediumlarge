{
 "cells": [
  {
   "cell_type": "code",
   "execution_count": 105,
   "metadata": {},
   "outputs": [],
   "source": [
    "import pandas as pd\n",
    "import csv"
   ]
  },
  {
   "cell_type": "code",
   "execution_count": 106,
   "metadata": {},
   "outputs": [],
   "source": [
    "# Reading original .csv\n",
    "df = pd.read_csv('../WikiArtClean.csv')\n",
    "df = df.drop(columns=['Image URL', 'Painting Info URL', 'Artist Info URL'])\n",
    "# List of all columns\n",
    "columns = list(df.columns)\n",
    "# List of mood attributes\n",
    "moods = columns[8:]"
   ]
  },
  {
   "cell_type": "code",
   "execution_count": 107,
   "metadata": {},
   "outputs": [
    {
     "data": {
      "text/plain": [
       "['Renaissance Art',\n",
       " 'Post Renaissance Art',\n",
       " 'Modern Art',\n",
       " 'Modern Art,Post Renaissance Art',\n",
       " 'Contemporary Art,Modern Art',\n",
       " 'Contemporary Art']"
      ]
     },
     "execution_count": 107,
     "metadata": {},
     "output_type": "execute_result"
    }
   ],
   "source": [
    "# Getting all different styles\n",
    "styles = []\n",
    "\n",
    "for index, row in df.iterrows():\n",
    "    if row[0] not in styles:\n",
    "        styles.append(row[0])\n",
    "        \n",
    "styles"
   ]
  },
  {
   "cell_type": "code",
   "execution_count": 108,
   "metadata": {},
   "outputs": [],
   "source": [
    "# Creating dataframes for each style\n",
    "\n",
    "styleFrames = [];\n",
    "\n",
    "for style in styles:\n",
    "    newDf = df.loc[df['Style'] == style]\n",
    "    styleFrames.append(newDf)"
   ]
  },
  {
   "cell_type": "code",
   "execution_count": 109,
   "metadata": {},
   "outputs": [],
   "source": [
    "# CSVs for average ratings of each Artist per style\n",
    "\n",
    "allAverages = []\n",
    "\n",
    "for i in range(len(styles)):\n",
    "    frame = styleFrames[i].groupby(['Artist']).mean()\n",
    "    frame = frame.drop(columns=['Year'])\n",
    "    fileName = styles[i] + '_ArtistAverages.csv'\n",
    "#     frame.to_csv(fileName)"
   ]
  },
  {
   "cell_type": "code",
   "execution_count": 110,
   "metadata": {},
   "outputs": [],
   "source": [
    "# CSV for average ratings for the style\n",
    "\n",
    "styleEmotions = df.groupby(['Style']).mean()\n",
    "# styleEmotions.to_csv('averageEmotionByStyle.csv')"
   ]
  },
  {
   "cell_type": "code",
   "execution_count": 111,
   "metadata": {},
   "outputs": [],
   "source": [
    "# Writing each style dataframe to its own .csv\n",
    "\n",
    "for i in range(len(styles)):\n",
    "    finalCsv = pd.DataFrame(styleFrames[i])\n",
    "    fileName = styles[i] + '.csv'\n",
    "#     finalCsv.to_csv(fileName)"
   ]
  },
  {
   "cell_type": "code",
   "execution_count": null,
   "metadata": {},
   "outputs": [],
   "source": []
  },
  {
   "cell_type": "code",
   "execution_count": null,
   "metadata": {},
   "outputs": [],
   "source": []
  },
  {
   "cell_type": "code",
   "execution_count": null,
   "metadata": {},
   "outputs": [],
   "source": []
  }
 ],
 "metadata": {
  "kernelspec": {
   "display_name": "Python 3",
   "language": "python",
   "name": "python3"
  },
  "language_info": {
   "codemirror_mode": {
    "name": "ipython",
    "version": 3
   },
   "file_extension": ".py",
   "mimetype": "text/x-python",
   "name": "python",
   "nbconvert_exporter": "python",
   "pygments_lexer": "ipython3",
   "version": "3.7.4"
  }
 },
 "nbformat": 4,
 "nbformat_minor": 2
}
